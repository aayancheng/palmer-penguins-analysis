{
  "cells": [
    {
      "cell_type": "markdown",
      "metadata": {},
      "source": [
        "# Palmer Penguins Dataset: EDA and Machine Learning Analysis\\n\\nThis notebook performs exploratory data analysis and builds baseline machine learning models for the Palmer Penguins dataset.\\n\\n## Contents\\n1. Setup and Data Loading\\n2. Exploratory Data Analysis\\n3. Data Preprocessing\\n4. Model Development\\n5. Results and Conclusions"
      ]
    }
  ],
  "metadata": {
    "kernelspec": {
      "display_name": "Python (ds-venv)",
      "language": "python",
      "name": "ds-venv"
    },
    "language_info": {
      "codemirror_mode": {
        "name": "ipython",
        "version": 3
      },
      "file_extension": ".py",
      "mimetype": "text/x-python",
      "name": "python",
      "nbconvert_exporter": "python",
      "pygments_lexer": "ipython3",
      "version": "3.11.5"
    }
  },
  "nbformat": 4,
  "nbformat_minor": 4
}